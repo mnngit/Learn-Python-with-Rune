{
  "nbformat": 4,
  "nbformat_minor": 0,
  "metadata": {
    "colab": {
      "provenance": [],
      "collapsed_sections": [],
      "authorship_tag": "ABX9TyNLcA9Jm0wJXL3QSAqZHsCG",
      "include_colab_link": true
    },
    "kernelspec": {
      "name": "python3",
      "display_name": "Python 3"
    },
    "language_info": {
      "name": "python"
    }
  },
  "cells": [
    {
      "cell_type": "markdown",
      "metadata": {
        "id": "view-in-github",
        "colab_type": "text"
      },
      "source": [
        "<a href=\"https://colab.research.google.com/github/mnngit/Learn-Python-with-Rune/blob/main/randomness%26simple_games.ipynb\" target=\"_parent\"><img src=\"https://colab.research.google.com/assets/colab-badge.svg\" alt=\"Open In Colab\"/></a>"
      ]
    },
    {
      "cell_type": "markdown",
      "source": [
        "# Random\n",
        "\n"
      ],
      "metadata": {
        "id": "t0OztJ2OxTeI"
      }
    },
    {
      "cell_type": "code",
      "source": [
        "import random"
      ],
      "metadata": {
        "id": "jmeuxVYnxeXs"
      },
      "execution_count": null,
      "outputs": []
    },
    {
      "cell_type": "code",
      "source": [
        "random.randint(1,20)"
      ],
      "metadata": {
        "colab": {
          "base_uri": "https://localhost:8080/"
        },
        "id": "OcJBowAWWweA",
        "outputId": "0e1645ae-d598-4da4-af23-54d798a0c548"
      },
      "execution_count": null,
      "outputs": [
        {
          "output_type": "execute_result",
          "data": {
            "text/plain": [
              "14"
            ]
          },
          "metadata": {},
          "execution_count": 7
        }
      ]
    },
    {
      "cell_type": "code",
      "source": [
        "random.uniform(1,0)"
      ],
      "metadata": {
        "colab": {
          "base_uri": "https://localhost:8080/"
        },
        "id": "-Zn4NgG4Xd-c",
        "outputId": "aaae7f8d-dc9d-4587-f3bf-dd446deae24c"
      },
      "execution_count": null,
      "outputs": [
        {
          "output_type": "execute_result",
          "data": {
            "text/plain": [
              "0.01281806616503911"
            ]
          },
          "metadata": {},
          "execution_count": 8
        }
      ]
    },
    {
      "cell_type": "code",
      "source": [
        "random.gauss(0,1)"
      ],
      "metadata": {
        "colab": {
          "base_uri": "https://localhost:8080/"
        },
        "id": "t7LlYyMnYTXL",
        "outputId": "c90f7a03-2929-4683-f436-c2180dacfffe"
      },
      "execution_count": null,
      "outputs": [
        {
          "output_type": "execute_result",
          "data": {
            "text/plain": [
              "-1.191475902237476"
            ]
          },
          "metadata": {},
          "execution_count": 13
        }
      ]
    },
    {
      "cell_type": "code",
      "source": [
        "import random"
      ],
      "metadata": {
        "id": "NJsY0sgWZEpN"
      },
      "execution_count": 1,
      "outputs": []
    },
    {
      "cell_type": "code",
      "source": [
        "a = random.randint(1,10)\n",
        "b = random.randint(1,10)\n",
        "answer = input(f\"What is {a} times {b}? \")\n",
        "answer = int(answer)\n",
        "if answer == a*b:\n",
        "  print(f\"Correct! {a} times {b} is {answer}\")\n",
        "else:\n",
        "  print(f\"Wrong! {a} times {b} is {a*b}\")\n"
      ],
      "metadata": {
        "colab": {
          "base_uri": "https://localhost:8080/"
        },
        "id": "5DjRhp-BHrT1",
        "outputId": "db2c4a0e-7f2e-42c0-a99a-33cef0fecd39"
      },
      "execution_count": 4,
      "outputs": [
        {
          "output_type": "stream",
          "name": "stdout",
          "text": [
            "What is 3 times 4? 11\n",
            "Wrong! 3 times 4 is 12\n"
          ]
        }
      ]
    },
    {
      "cell_type": "code",
      "source": [
        "# Rock, Paper, Scissors Game\n",
        "print(\"Enter Choice: 1: Rock, 2: Paper, 3: Scissors \")\n",
        "my_choice = input(\"Enter choice (1/2/3): \")\n",
        "my_choice = int(my_choice)\n",
        "\n",
        "computer_choice = random.randint(1,3)\n",
        "print(f\"computer's choice is {computer_choice}\")\n",
        "\n",
        "if my_choice == computer_choice:\n",
        "  print('Draw')\n",
        "elif my_choice == 1:\n",
        "  if computer_choice == 2:\n",
        "    print('Computer won')\n",
        "  else:\n",
        "    print('You won!')\n",
        "elif my_choice ==2:\n",
        "  if computer_choice ==3:\n",
        "    print('Computer won')\n",
        "  else:\n",
        "    print('You won!')\n",
        "elif my_choice ==3:\n",
        "  if computer_choice ==1:\n",
        "    print('Computer won')\n",
        "  else:\n",
        "    print('You won!')"
      ],
      "metadata": {
        "colab": {
          "base_uri": "https://localhost:8080/"
        },
        "id": "4Z1F9EIvJW9R",
        "outputId": "195c1d5e-bc0f-427b-8893-096843e690bc"
      },
      "execution_count": 7,
      "outputs": [
        {
          "output_type": "stream",
          "name": "stdout",
          "text": [
            "Enter Choice: 1: Rock, 2: Paper, 3: Scissors \n",
            "Enter choice (1/2/3): 3\n",
            "computer's choice is 2\n",
            "You won!\n"
          ]
        }
      ]
    }
  ]
}